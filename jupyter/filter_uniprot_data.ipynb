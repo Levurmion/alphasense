{
 "cells": [
  {
   "attachments": {},
   "cell_type": "markdown",
   "metadata": {},
   "source": [
    "<h2>Filtering UniProt Data</h2>\n",
    "\n",
    "<p>We want to filter the file: 'UniProt_human_variants_reduced.csv', to only include reviewed UniProt entries with a evidence at the protein level.</p> \n",
    "\n",
    "<span>The list of UniProt proteins with evidence at the protein level can be found in: 'uniprot_human_reviewed.csv'.</span>\n"
   ]
  },
  {
   "cell_type": "code",
   "execution_count": 61,
   "metadata": {},
   "outputs": [],
   "source": [
    "import os\n",
    "\n",
    "# establish files path\n",
    "FILES_PATH = os.path.join(os.environ.get('PYTHONPATH'),'files')"
   ]
  },
  {
   "attachments": {},
   "cell_type": "markdown",
   "metadata": {},
   "source": [
    "<p>We first load both files into a dataframe</p>"
   ]
  },
  {
   "cell_type": "code",
   "execution_count": 62,
   "metadata": {},
   "outputs": [],
   "source": [
    "import pandas as pd\n",
    "\n",
    "humanVariants_path = os.path.join(FILES_PATH, 'uniprot_variants_test.csv')\n",
    "reviewedProteins_path = os.path.join(FILES_PATH, 'uniprot_human_reviewed.csv')\n",
    "\n",
    "humanVariants_df = pd.read_csv(humanVariants_path, sep='\\t')\n",
    "reviewedProteins_df = pd.read_csv(reviewedProteins_path, sep='\\t')"
   ]
  },
  {
   "attachments": {},
   "cell_type": "markdown",
   "metadata": {},
   "source": [
    "<p>\n",
    "   humanVariants_df has the columns\n",
    "   <ul>\n",
    "      <li>Gene Names</li>\n",
    "      <li>AC</li>\n",
    "      <li>Variant AA Change</li>\n",
    "      <li>Source DB ID</li>\n",
    "      <li>Consequence Type</li>\n",
    "      <li>Clinical Significance</li>\n",
    "      <li>Evidence</li>\n",
    "   </ul>\n",
    "</p>\n",
    "\n",
    "<p>\n",
    "   reviewedProteins_df has the columns\n",
    "   <ul>\n",
    "      <li>Entry</li>\n",
    "      <li>Entry Name</li>\n",
    "      <li>Gene Names</li>\n",
    "      <li>Length</li>\n",
    "   </ul>\n",
    "</p>"
   ]
  },
  {
   "cell_type": "code",
   "execution_count": 84,
   "metadata": {},
   "outputs": [
    {
     "ename": "AttributeError",
     "evalue": "'DataFrame' object has no attribute 'append'",
     "output_type": "error",
     "traceback": [
      "\u001b[0;31m---------------------------------------------------------------------------\u001b[0m",
      "\u001b[0;31mAttributeError\u001b[0m                            Traceback (most recent call last)",
      "Cell \u001b[0;32mIn[84], line 65\u001b[0m\n\u001b[1;32m     62\u001b[0m         \u001b[39mfor\u001b[39;00m col2 \u001b[39min\u001b[39;00m FILTERED_DF_COL:\n\u001b[1;32m     63\u001b[0m             rowDict[col2] \u001b[39m=\u001b[39m row[col2]\n\u001b[0;32m---> 65\u001b[0m         filtered_df\u001b[39m.\u001b[39;49mappend()\n\u001b[1;32m     67\u001b[0m \u001b[39mexcept\u001b[39;00m \u001b[39mKeyError\u001b[39;00m:\n\u001b[1;32m     68\u001b[0m     \u001b[39mpass\u001b[39;00m\n",
      "File \u001b[0;32m~/Desktop/missense3D/alphasense/env/lib/python3.9/site-packages/pandas/core/generic.py:5989\u001b[0m, in \u001b[0;36mNDFrame.__getattr__\u001b[0;34m(self, name)\u001b[0m\n\u001b[1;32m   5982\u001b[0m \u001b[39mif\u001b[39;00m (\n\u001b[1;32m   5983\u001b[0m     name \u001b[39mnot\u001b[39;00m \u001b[39min\u001b[39;00m \u001b[39mself\u001b[39m\u001b[39m.\u001b[39m_internal_names_set\n\u001b[1;32m   5984\u001b[0m     \u001b[39mand\u001b[39;00m name \u001b[39mnot\u001b[39;00m \u001b[39min\u001b[39;00m \u001b[39mself\u001b[39m\u001b[39m.\u001b[39m_metadata\n\u001b[1;32m   5985\u001b[0m     \u001b[39mand\u001b[39;00m name \u001b[39mnot\u001b[39;00m \u001b[39min\u001b[39;00m \u001b[39mself\u001b[39m\u001b[39m.\u001b[39m_accessors\n\u001b[1;32m   5986\u001b[0m     \u001b[39mand\u001b[39;00m \u001b[39mself\u001b[39m\u001b[39m.\u001b[39m_info_axis\u001b[39m.\u001b[39m_can_hold_identifiers_and_holds_name(name)\n\u001b[1;32m   5987\u001b[0m ):\n\u001b[1;32m   5988\u001b[0m     \u001b[39mreturn\u001b[39;00m \u001b[39mself\u001b[39m[name]\n\u001b[0;32m-> 5989\u001b[0m \u001b[39mreturn\u001b[39;00m \u001b[39mobject\u001b[39;49m\u001b[39m.\u001b[39;49m\u001b[39m__getattribute__\u001b[39;49m(\u001b[39mself\u001b[39;49m, name)\n",
      "\u001b[0;31mAttributeError\u001b[0m: 'DataFrame' object has no attribute 'append'"
     ]
    }
   ],
   "source": [
    "'''\n",
    "Create a new dataframe where:\n",
    "- humanVariants_df['AC'] == reviewedProteins_df['Entry']\n",
    "- humanVariants_df['Consequence Type'] == 'missense variant'\n",
    "- humanVariants_df['Clinical Significance'] != anything ambiguous\n",
    "\n",
    "The new dataframe will have columns of:\n",
    "- Entry\n",
    "- Entry Name\n",
    "- Gene Names\n",
    "- Length\n",
    "- Variant AA Change\n",
    "- Source DB ID\n",
    "- Clinical Significance\n",
    "- Evidence\n",
    "'''\n",
    "import re\n",
    "\n",
    "# assemble reviewed proteins into a dictionary\n",
    "REVIEWED_PROTEINS = {}\n",
    "\n",
    "for idx, protein in reviewedProteins_df.loc[:, 'Entry'].items():\n",
    "    REVIEWED_PROTEINS[protein] = idx\n",
    "\n",
    "# reviewedProteins_df.set_index('Entry')\n",
    "\n",
    "REVIEWED_PROTEINS_COLS = reviewedProteins_df.columns\n",
    "# print(humanVariants_df.columns)\n",
    "\n",
    "FILTERED_DF_COL = [\n",
    "    'Variant AA Change',\n",
    "    'Source DB ID',\n",
    "    'Clinical Significance',\n",
    "    'Evidence',\n",
    "]\n",
    "\n",
    "filtered_df = pd.DataFrame(columns=FILTERED_DF_COL + list(REVIEWED_PROTEINS_COLS))\n",
    "\n",
    "clinicalSigRegex = r'\\b(conflicting|uncertain|Conflicting|Uncertain)\\b'\n",
    "\n",
    "for idx, row in humanVariants_df.iterrows():\n",
    "\n",
    "    rowDict = {}\n",
    "\n",
    "    # CHECK FOR\n",
    "    # - humanVariants_df['AC'] == reviewedProteins_df['Entry']\n",
    "    # - humanVariants_df['Consequence Type'] == 'missense variant'\n",
    "    # - humanVariants_df['Clinical Significance'] != anything ambiguous\n",
    "\n",
    "    # print(row['AC'])\n",
    "\n",
    "    try:\n",
    "        reviewedProteinsIdx = REVIEWED_PROTEINS[row['AC']]\n",
    "        # print(row['Consequence Type'] == 'missense variant')\n",
    "        # print(bool(re.search(clinicalSigRegex, row['Clinical Significance'])) == False)\n",
    "\n",
    "        if row['Consequence Type'] == 'missense variant' and bool(re.search(clinicalSigRegex, row['Clinical Significance'])) == False:\n",
    "\n",
    "            for col1 in REVIEWED_PROTEINS_COLS:\n",
    "                rowDict[col1] = reviewedProteins_df.loc[reviewedProteinsIdx, col1]\n",
    "                \n",
    "            for col2 in FILTERED_DF_COL:\n",
    "                rowDict[col2] = row[col2]\n",
    "            \n",
    "            filtered_df.append()\n",
    "            \n",
    "    except KeyError:\n",
    "        pass\n",
    "\n",
    "print(filtered_df)"
   ]
  }
 ],
 "metadata": {
  "kernelspec": {
   "display_name": "env",
   "language": "python",
   "name": "python3"
  },
  "language_info": {
   "codemirror_mode": {
    "name": "ipython",
    "version": 3
   },
   "file_extension": ".py",
   "mimetype": "text/x-python",
   "name": "python",
   "nbconvert_exporter": "python",
   "pygments_lexer": "ipython3",
   "version": "3.9.13"
  },
  "orig_nbformat": 4
 },
 "nbformat": 4,
 "nbformat_minor": 2
}
