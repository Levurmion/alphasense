{
 "cells": [
  {
   "attachments": {},
   "cell_type": "markdown",
   "metadata": {},
   "source": [
    "<h2>Filtering UniProt Data</h2>\n",
    "\n",
    "<p>We want to filter the file: 'UniProt_human_variants_reduced.csv', to only include reviewed UniProt entries with a evidence at the protein level.</p> \n",
    "\n",
    "<span>The list of UniProt proteins with evidence at the protein level can be found in: 'uniprot_human_reviewed.csv'.</span>\n"
   ]
  },
  {
   "cell_type": "code",
   "execution_count": 61,
   "metadata": {},
   "outputs": [],
   "source": [
    "import os\n",
    "\n",
    "# establish files path\n",
    "FILES_PATH = os.path.join(os.environ.get('PYTHONPATH'),'files')"
   ]
  },
  {
   "attachments": {},
   "cell_type": "markdown",
   "metadata": {},
   "source": [
    "<p>We first load both files into a dataframe</p>"
   ]
  },
  {
   "cell_type": "code",
   "execution_count": 62,
   "metadata": {},
   "outputs": [],
   "source": [
    "import pandas as pd\n",
    "\n",
    "humanVariants_path = os.path.join(FILES_PATH, 'uniprot_variants_test.csv')\n",
    "reviewedProteins_path = os.path.join(FILES_PATH, 'uniprot_human_reviewed.csv')\n",
    "\n",
    "humanVariants_df = pd.read_csv(humanVariants_path, sep='\\t')\n",
    "reviewedProteins_df = pd.read_csv(reviewedProteins_path, sep='\\t')"
   ]
  },
  {
   "attachments": {},
   "cell_type": "markdown",
   "metadata": {},
   "source": [
    "<p>\n",
    "   humanVariants_df has the columns\n",
    "   <ul>\n",
    "      <li>Gene Names</li>\n",
    "      <li>AC</li>\n",
    "      <li>Variant AA Change</li>\n",
    "      <li>Source DB ID</li>\n",
    "      <li>Consequence Type</li>\n",
    "      <li>Clinical Significance</li>\n",
    "      <li>Evidence</li>\n",
    "   </ul>\n",
    "</p>\n",
    "\n",
    "<p>\n",
    "   reviewedProteins_df has the columns\n",
    "   <ul>\n",
    "      <li>Entry</li>\n",
    "      <li>Entry Name</li>\n",
    "      <li>Gene Names</li>\n",
    "      <li>Length</li>\n",
    "   </ul>\n",
    "</p>"
   ]
  },
  {
   "cell_type": "code",
   "execution_count": 82,
   "metadata": {},
   "outputs": [
    {
     "ename": "ValueError",
     "evalue": "Unable to coerce to Series, length must be 4: given 8",
     "output_type": "error",
     "traceback": [
      "\u001b[0;31m---------------------------------------------------------------------------\u001b[0m",
      "\u001b[0;31mValueError\u001b[0m                                Traceback (most recent call last)",
      "Cell \u001b[0;32mIn[82], line 65\u001b[0m\n\u001b[1;32m     62\u001b[0m         \u001b[39mfor\u001b[39;00m col2 \u001b[39min\u001b[39;00m FILTERED_DF_COL:\n\u001b[1;32m     63\u001b[0m             rowDict[col2] \u001b[39m=\u001b[39m row[col2]\n\u001b[0;32m---> 65\u001b[0m         filtered_df\u001b[39m.\u001b[39;49madd(rowDict)\n\u001b[1;32m     67\u001b[0m \u001b[39mexcept\u001b[39;00m \u001b[39mKeyError\u001b[39;00m:\n\u001b[1;32m     68\u001b[0m     \u001b[39mpass\u001b[39;00m\n",
      "File \u001b[0;32m~/Desktop/missense3D/alphasense/env/lib/python3.9/site-packages/pandas/core/ops/__init__.py:458\u001b[0m, in \u001b[0;36mflex_arith_method_FRAME.<locals>.f\u001b[0;34m(self, other, axis, level, fill_value)\u001b[0m\n\u001b[1;32m    455\u001b[0m     \u001b[39mraise\u001b[39;00m \u001b[39mNotImplementedError\u001b[39;00m(\u001b[39mf\u001b[39m\u001b[39m\"\u001b[39m\u001b[39mfill_value \u001b[39m\u001b[39m{\u001b[39;00mfill_value\u001b[39m}\u001b[39;00m\u001b[39m not supported.\u001b[39m\u001b[39m\"\u001b[39m)\n\u001b[1;32m    457\u001b[0m other \u001b[39m=\u001b[39m maybe_prepare_scalar_for_op(other, \u001b[39mself\u001b[39m\u001b[39m.\u001b[39mshape)\n\u001b[0;32m--> 458\u001b[0m \u001b[39mself\u001b[39m, other \u001b[39m=\u001b[39m align_method_FRAME(\u001b[39mself\u001b[39;49m, other, axis, flex\u001b[39m=\u001b[39;49m\u001b[39mTrue\u001b[39;49;00m, level\u001b[39m=\u001b[39;49mlevel)\n\u001b[1;32m    460\u001b[0m \u001b[39mif\u001b[39;00m \u001b[39misinstance\u001b[39m(other, ABCDataFrame):\n\u001b[1;32m    461\u001b[0m     \u001b[39m# Another DataFrame\u001b[39;00m\n\u001b[1;32m    462\u001b[0m     new_data \u001b[39m=\u001b[39m \u001b[39mself\u001b[39m\u001b[39m.\u001b[39m_combine_frame(other, na_op, fill_value)\n",
      "File \u001b[0;32m~/Desktop/missense3D/alphasense/env/lib/python3.9/site-packages/pandas/core/ops/__init__.py:306\u001b[0m, in \u001b[0;36malign_method_FRAME\u001b[0;34m(left, right, axis, flex, level)\u001b[0m\n\u001b[1;32m    302\u001b[0m         \u001b[39mraise\u001b[39;00m \u001b[39mValueError\u001b[39;00m(\n\u001b[1;32m    303\u001b[0m             \u001b[39mf\u001b[39m\u001b[39m\"\u001b[39m\u001b[39mUnable to coerce list of \u001b[39m\u001b[39m{\u001b[39;00m\u001b[39mtype\u001b[39m(right[\u001b[39m0\u001b[39m])\u001b[39m}\u001b[39;00m\u001b[39m to Series/DataFrame\u001b[39m\u001b[39m\"\u001b[39m\n\u001b[1;32m    304\u001b[0m         )\n\u001b[1;32m    305\u001b[0m     \u001b[39m# GH17901\u001b[39;00m\n\u001b[0;32m--> 306\u001b[0m     right \u001b[39m=\u001b[39m to_series(right)\n\u001b[1;32m    308\u001b[0m \u001b[39mif\u001b[39;00m flex \u001b[39mis\u001b[39;00m \u001b[39mnot\u001b[39;00m \u001b[39mNone\u001b[39;00m \u001b[39mand\u001b[39;00m \u001b[39misinstance\u001b[39m(right, ABCDataFrame):\n\u001b[1;32m    309\u001b[0m     \u001b[39mif\u001b[39;00m \u001b[39mnot\u001b[39;00m left\u001b[39m.\u001b[39m_indexed_same(right):\n",
      "File \u001b[0;32m~/Desktop/missense3D/alphasense/env/lib/python3.9/site-packages/pandas/core/ops/__init__.py:252\u001b[0m, in \u001b[0;36malign_method_FRAME.<locals>.to_series\u001b[0;34m(right)\u001b[0m\n\u001b[1;32m    250\u001b[0m \u001b[39melse\u001b[39;00m:\n\u001b[1;32m    251\u001b[0m     \u001b[39mif\u001b[39;00m \u001b[39mlen\u001b[39m(left\u001b[39m.\u001b[39mcolumns) \u001b[39m!=\u001b[39m \u001b[39mlen\u001b[39m(right):\n\u001b[0;32m--> 252\u001b[0m         \u001b[39mraise\u001b[39;00m \u001b[39mValueError\u001b[39;00m(\n\u001b[1;32m    253\u001b[0m             msg\u001b[39m.\u001b[39mformat(req_len\u001b[39m=\u001b[39m\u001b[39mlen\u001b[39m(left\u001b[39m.\u001b[39mcolumns), given_len\u001b[39m=\u001b[39m\u001b[39mlen\u001b[39m(right))\n\u001b[1;32m    254\u001b[0m         )\n\u001b[1;32m    255\u001b[0m     right \u001b[39m=\u001b[39m left\u001b[39m.\u001b[39m_constructor_sliced(right, index\u001b[39m=\u001b[39mleft\u001b[39m.\u001b[39mcolumns, dtype\u001b[39m=\u001b[39mdtype)\n\u001b[1;32m    256\u001b[0m \u001b[39mreturn\u001b[39;00m right\n",
      "\u001b[0;31mValueError\u001b[0m: Unable to coerce to Series, length must be 4: given 8"
     ]
    }
   ],
   "source": [
    "'''\n",
    "Create a new dataframe where:\n",
    "- humanVariants_df['AC'] == reviewedProteins_df['Entry']\n",
    "- humanVariants_df['Consequence Type'] == 'missense variant'\n",
    "- humanVariants_df['Clinical Significance'] != anything ambiguous\n",
    "\n",
    "The new dataframe will have columns of:\n",
    "- Entry\n",
    "- Entry Name\n",
    "- Gene Names\n",
    "- Length\n",
    "- Variant AA Change\n",
    "- Source DB ID\n",
    "- Clinical Significance\n",
    "- Evidence\n",
    "'''\n",
    "import re\n",
    "\n",
    "# assemble reviewed proteins into a dictionary\n",
    "REVIEWED_PROTEINS = {}\n",
    "\n",
    "for idx, protein in reviewedProteins_df.loc[:, 'Entry'].items():\n",
    "    REVIEWED_PROTEINS[protein] = idx\n",
    "\n",
    "# reviewedProteins_df.set_index('Entry')\n",
    "\n",
    "REVIEWED_PROTEINS_COLS = reviewedProteins_df.columns\n",
    "# print(humanVariants_df.columns)\n",
    "\n",
    "FILTERED_DF_COL = [\n",
    "    'Variant AA Change',\n",
    "    'Source DB ID',\n",
    "    'Clinical Significance',\n",
    "    'Evidence',\n",
    "]\n",
    "\n",
    "filtered_df = pd.DataFrame(columns=(FILTERED_DF_COL + list(REVIEWED_PROTEINS_COLS)))\n",
    "\n",
    "clinicalSigRegex = r'\\b(conflicting|uncertain|Conflicting|Uncertain)\\b'\n",
    "\n",
    "for idx, row in humanVariants_df.iterrows():\n",
    "\n",
    "    rowDict = {}\n",
    "\n",
    "    # CHECK FOR\n",
    "    # - humanVariants_df['AC'] == reviewedProteins_df['Entry']\n",
    "    # - humanVariants_df['Consequence Type'] == 'missense variant'\n",
    "    # - humanVariants_df['Clinical Significance'] != anything ambiguous\n",
    "\n",
    "    # print(row['AC'])\n",
    "\n",
    "    try:\n",
    "        reviewedProteinsIdx = REVIEWED_PROTEINS[row['AC']]\n",
    "        # print(row['Consequence Type'] == 'missense variant')\n",
    "        # print(bool(re.search(clinicalSigRegex, row['Clinical Significance'])) == False)\n",
    "\n",
    "        if row['Consequence Type'] == 'missense variant' and bool(re.search(clinicalSigRegex, row['Clinical Significance'])) == False:\n",
    "\n",
    "            for col1 in REVIEWED_PROTEINS_COLS:\n",
    "                rowDict[col1] = reviewedProteins_df.loc[reviewedProteinsIdx, col1]\n",
    "                \n",
    "            for col2 in FILTERED_DF_COL:\n",
    "                rowDict[col2] = row[col2]\n",
    "            \n",
    "            filtered_df.add(rowDict)\n",
    "            \n",
    "    except KeyError:\n",
    "        pass\n",
    "\n",
    "print(filtered_df)"
   ]
  }
 ],
 "metadata": {
  "kernelspec": {
   "display_name": "env",
   "language": "python",
   "name": "python3"
  },
  "language_info": {
   "codemirror_mode": {
    "name": "ipython",
    "version": 3
   },
   "file_extension": ".py",
   "mimetype": "text/x-python",
   "name": "python",
   "nbconvert_exporter": "python",
   "pygments_lexer": "ipython3",
   "version": "3.9.13"
  },
  "orig_nbformat": 4
 },
 "nbformat": 4,
 "nbformat_minor": 2
}
